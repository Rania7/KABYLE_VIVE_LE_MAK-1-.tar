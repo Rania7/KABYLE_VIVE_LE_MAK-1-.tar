{
 "cells": [
  {
   "cell_type": "code",
   "execution_count": null,
   "id": "4bd493dc",
   "metadata": {},
   "outputs": [],
   "source": [
    "import numpy as np\n",
    "# Ornstein_Uhlenbeck_process\n",
    "# le processus d'Ornstein-Uhlenbeck est utilisé pour \n",
    "# ajouter du bruit d'exploration à l'espace d'action.\n",
    "#\n",
    "\n",
    "#Le réseau acteur est utilisé pour sélectionner \n",
    "#des actions en fonction de l'état actuel de \n",
    "#l'environnement, et du bruit d'exploration est \n",
    "#ajouté aux actions pour encourager l'exploration de \n",
    "#l'espace d'action.\n",
    "\n",
    "#Le processus d'Ornstein-Uhlenbeck est un choix\n",
    "#populaire pour générer du bruit d'exploration \n",
    "#dans DDPG car il produit un bruit corrélé qui \n",
    "#convient bien aux problèmes de contrôle continu. \n",
    "\n",
    "class OUActionNoise():\n",
    "    # mu mean for the noise\n",
    "    # sigma standard deviation \n",
    "    # theta \n",
    "    # dt = time parameter\n",
    "    #  x0 = starting value\n",
    "    def __init__(self,mu,sigma=0.15, theta=0.2,dt=1e-2,x0=None):\n",
    "        self.mu=mu\n",
    "        self.theta=theta\n",
    "        self.sigma=sigma\n",
    "        self.dt=dt\n",
    "        self.x0=x0\n",
    "        self.reset()\n",
    "        \n",
    "    def __cal__(self):\n",
    "        # noise = OUActionNoise()\n",
    "        # current_noise =noise ()\n",
    "         x = self.x_prev + self.theta * (self.mu - self.x_prev) * self.dt + \\\n",
    "                self.sigma * np.sqrt(self.dt) * np.random.normal(size=self.mu.shape)\n",
    "        self.x_prev = x\n",
    "\n",
    "        return x\n",
    "    \n",
    "    def reset(self):\n",
    "        self.x_prev = self.x0 if self.x0 is not None else np.zeros_like(self.mu)\n",
    "\n",
    "        \n",
    "    def "
   ]
  }
 ],
 "metadata": {
  "kernelspec": {
   "display_name": "Python 3 (ipykernel)",
   "language": "python",
   "name": "python3"
  },
  "language_info": {
   "codemirror_mode": {
    "name": "ipython",
    "version": 3
   },
   "file_extension": ".py",
   "mimetype": "text/x-python",
   "name": "python",
   "nbconvert_exporter": "python",
   "pygments_lexer": "ipython3",
   "version": "3.10.9"
  }
 },
 "nbformat": 4,
 "nbformat_minor": 5
}
